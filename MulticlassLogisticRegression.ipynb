{
 "cells": [
  {
   "cell_type": "code",
   "execution_count": 1,
   "metadata": {
    "collapsed": true
   },
   "outputs": [],
   "source": [
    "import pandas as pd\n",
    "import numpy as np\n",
    "import matplotlib.pyplot as plt"
   ]
  },
  {
   "cell_type": "code",
   "execution_count": 2,
   "metadata": {
    "collapsed": true
   },
   "outputs": [],
   "source": [
    "%matplotlib inline"
   ]
  },
  {
   "cell_type": "code",
   "execution_count": 263,
   "metadata": {},
   "outputs": [],
   "source": [
    "class MCl_LogisticRegression:\n",
    "    \n",
    "    def __init__(self,lrate=0.0001,nIter=50):\n",
    "        self.lrate = lrate\n",
    "        self.nIter = nIter\n",
    "    \n",
    "    def fit(self,X,Y):\n",
    "        self.classes = np.unique(Y)\n",
    "        ar = np.zeros((1 + X.shape[1])*len(self.classes))\n",
    "        self.theta = ar.reshape(len(self.classes),1 + X.shape[1])\n",
    "        \n",
    "        for i in range(len(self.classes)):\n",
    "            \n",
    "            for _ in range(self.nIter):\n",
    "                Y1 = np.where(Y==self.classes[i],self.classes[i],-1)\n",
    "                error = self.hypothesis(X,i) - Y1\n",
    "                t = self.lrate/X.shape[0]\n",
    "                self.theta[i,1:] = self.theta[i,1:] - (t * np.dot(error,X))\n",
    "                self.theta[i,0] = self.theta[i,0] - (t * error.sum())\n",
    "        \n",
    "        \n",
    "    def hypothesis(self, X,cl):\n",
    "        return np.where(self.predict(X,cl) >= 0.5, self.classes[cl], -1)\n",
    "                \n",
    "    def predict(self, X,cl):\n",
    "        return 1/(1 + 2.71 ** (-1 * (np.dot(X,self.theta[cl,1:]) + self.theta[cl,0])))\n",
    "        "
   ]
  },
  {
   "cell_type": "code",
   "execution_count": 264,
   "metadata": {},
   "outputs": [
    {
     "data": {
      "text/plain": [
       "Sepal_length              5\n",
       "Sepal_width             3.3\n",
       "Petal_length            1.4\n",
       "Petal_width             0.2\n",
       "Type            Iris-setosa\n",
       "Name: 49, dtype: object"
      ]
     },
     "execution_count": 264,
     "metadata": {},
     "output_type": "execute_result"
    }
   ],
   "source": [
    "irisData = pd.read_csv('Iris.csv')\n",
    "irisData.loc[49]"
   ]
  },
  {
   "cell_type": "code",
   "execution_count": 265,
   "metadata": {},
   "outputs": [],
   "source": [
    "Y = irisData.iloc[0:25,4].values \n",
    "Y = np.append(Y,irisData.iloc[50:75,4].values)\n",
    "Y = np.append(Y,irisData.iloc[125:150,4].values)"
   ]
  },
  {
   "cell_type": "code",
   "execution_count": 266,
   "metadata": {},
   "outputs": [
    {
     "data": {
      "text/plain": [
       "array(['Iris-setosa', 'Iris-versicolor', 'Iris-virginica'], dtype=object)"
      ]
     },
     "execution_count": 266,
     "metadata": {},
     "output_type": "execute_result"
    }
   ],
   "source": [
    "np.unique(Y)"
   ]
  },
  {
   "cell_type": "code",
   "execution_count": 267,
   "metadata": {},
   "outputs": [
    {
     "data": {
      "text/plain": [
       "array([1, 1, 1, 1, 1, 1, 1, 1, 1, 1, 1, 1, 1, 1, 1, 1, 1, 1, 1, 1, 1, 1, 1,\n",
       "       1, 1, 2, 2, 2, 2, 2, 2, 2, 2, 2, 2, 2, 2, 2, 2, 2, 2, 2, 2, 2, 2, 2,\n",
       "       2, 2, 2, 2, 3, 3, 3, 3, 3, 3, 3, 3, 3, 3, 3, 3, 3, 3, 3, 3, 3, 3, 3,\n",
       "       3, 3, 3, 3, 3, 3], dtype=object)"
      ]
     },
     "execution_count": 267,
     "metadata": {},
     "output_type": "execute_result"
    }
   ],
   "source": [
    "Y = np.where(Y=='Iris-setosa',1,Y)\n",
    "Y = np.where(Y=='Iris-versicolor',2,Y)\n",
    "Y = np.where(Y=='Iris-virginica',3,Y)\n",
    "Y"
   ]
  },
  {
   "cell_type": "code",
   "execution_count": 268,
   "metadata": {},
   "outputs": [
    {
     "data": {
      "text/plain": [
       "(75, 2)"
      ]
     },
     "execution_count": 268,
     "metadata": {},
     "output_type": "execute_result"
    }
   ],
   "source": [
    "X = np.append(irisData.iloc[0:25, [0, 2]].values,irisData.iloc[50:75, [0, 2]].values,axis=0)\n",
    "X = np.append(X,irisData.iloc[125:150, [0, 2]].values,axis=0)\n",
    "X.shape"
   ]
  },
  {
   "cell_type": "code",
   "execution_count": 269,
   "metadata": {},
   "outputs": [
    {
     "data": {
      "image/png": "[encoded data removed]",
      "text/plain": [
       "<matplotlib.figure.Figure at 0x7fa6fa5018d0>"
      ]
     },
     "metadata": {},
     "output_type": "display_data"
    }
   ],
   "source": [
    "plt.scatter(X[:25,0], X[:25,1], color = 'red', marker='o', label='setosa')\n",
    "plt.scatter(X[25:50,0], X[25:50,1], color='blue', marker='x', label='versicolor')\n",
    "plt.scatter(X[50:75,0], X[50:75,1], color='green', marker='^', label='verginica')\n",
    "plt.xlabel('sepal length')\n",
    "plt.ylabel('petal length')\n",
    "plt.legend(loc='upper left')\n",
    "plt.show()"
   ]
  },
  {
   "cell_type": "code",
   "execution_count": 270,
   "metadata": {},
   "outputs": [],
   "source": [
    "lRegress = MCl_LogisticRegression(lrate=0.000001, nIter=50)\n",
    "lRegress.fit(X,Y)"
   ]
  },
  {
   "cell_type": "code",
   "execution_count": 271,
   "metadata": {},
   "outputs": [
    {
     "data": {
      "text/plain": [
       "array([[  6.66666667e-07,   1.64800000e-06,  -3.59733333e-06],\n",
       "       [ -8.80000000e-07,  -4.40800000e-06,   8.53600000e-06],\n",
       "       [ -7.68000000e-06,  -2.04693333e-05,   2.10933333e-05]])"
      ]
     },
     "execution_count": 271,
     "metadata": {},
     "output_type": "execute_result"
    }
   ],
   "source": [
    "lRegress.theta"
   ]
  },
  {
   "cell_type": "code",
   "execution_count": 279,
   "metadata": {},
   "outputs": [
    {
     "data": {
      "text/plain": [
       "array([2, 2, 2, 2, 2, 2, 2, 2, 2, 2, 2, 2, 2, 2, 2, 2, 2, 2, 2, 2, 2, 2, 2,\n",
       "       2, 2])"
      ]
     },
     "execution_count": 279,
     "metadata": {},
     "output_type": "execute_result"
    }
   ],
   "source": [
    "lRegress.hypothesis(irisData.iloc[50:75, [0, 2]].values,1)"
   ]
  },
  {
   "cell_type": "code",
   "execution_count": null,
   "metadata": {
    "collapsed": true
   },
   "outputs": [],
   "source": []
  }
 ],
 "metadata": {
  "kernelspec": {
   "display_name": "Python 3",
   "language": "python",
   "name": "python3"
  },
  "language_info": {
   "codemirror_mode": {
    "name": "ipython",
    "version": 3
   },
   "file_extension": ".py",
   "mimetype": "text/x-python",
   "name": "python",
   "nbconvert_exporter": "python",
   "pygments_lexer": "ipython3",
   "version": "3.5.2"
  }
 },
 "nbformat": 4,
 "nbformat_minor": 2
}
