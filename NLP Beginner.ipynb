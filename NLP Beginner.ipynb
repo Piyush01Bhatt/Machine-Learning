{
 "cells": [
  {
   "cell_type": "code",
   "execution_count": 1,
   "metadata": {},
   "outputs": [
    {
     "name": "stdout",
     "output_type": "stream",
     "text": [
      "        submission_time  upvotes                  url  \\\n",
      "0  2010-02-17T16:57:59Z        1  blog.jonasbandi.net   \n",
      "1  2014-02-04T02:36:30Z        1        blogs.wsj.com   \n",
      "2  2011-10-26T07:11:29Z        1       threatpost.com   \n",
      "3  2011-04-03T15:43:44Z       67     algorithm.com.au   \n",
      "4  2013-01-13T16:49:20Z        1      winmacsofts.com   \n",
      "\n",
      "                                            headline  \n",
      "0  Software: Sadly we did adopt from the construc...  \n",
      "1   Google’s Stock Split Means More Control for L...  \n",
      "2  SSL DOS attack tool released exploiting negoti...  \n",
      "3       Immutability and Blocks Lambdas and Closures  \n",
      "4         Comment optimiser la vitesse de Wordpress?  \n"
     ]
    }
   ],
   "source": [
    "import pandas as pd\n",
    "submissions = pd.read_csv(\"sel_hn_stories.csv\")\n",
    "submissions.columns = [\"submission_time\", \"upvotes\", \"url\", \"headline\"]\n",
    "submissions = submissions.dropna()\n",
    "print(submissions.head())"
   ]
  },
  {
   "cell_type": "code",
   "execution_count": 2,
   "metadata": {},
   "outputs": [],
   "source": [
    "tokenized_headlines = []\n",
    "for i in range(submissions.shape[0]):\n",
    "    tokens = submissions['headline'].iloc[i].split(\" \")\n",
    "    tokenized_headlines.append(tokens)"
   ]
  },
  {
   "cell_type": "code",
   "execution_count": 3,
   "metadata": {},
   "outputs": [],
   "source": [
    "punctuation = [\",\", \":\", \";\", \".\", \"'\", '\"', \"’\", \"?\", \"/\", \"-\", \"+\", \"&\", \"(\", \")\"]\n",
    "clean_tokenized = []\n",
    "for item in tokenized_headlines:\n",
    "    tokens = []\n",
    "    for token in item:\n",
    "        token = token.lower()\n",
    "        for punc in punctuation:\n",
    "            token = token.replace(punc, \"\")\n",
    "        tokens.append(token)\n",
    "    clean_tokenized.append(tokens)"
   ]
  },
  {
   "cell_type": "code",
   "execution_count": 4,
   "metadata": {},
   "outputs": [],
   "source": [
    "import numpy as np\n",
    "\n",
    "unique_tokens = []\n",
    "single_tokens = []\n",
    "\n",
    "for item in clean_tokenized:\n",
    "    for word in item:\n",
    "        if word in single_tokens:\n",
    "            if not word in unique_tokens:\n",
    "                unique_tokens.append(word)\n",
    "        else:\n",
    "            single_tokens.append(word)\n",
    "\n",
    "counts = pd.DataFrame(0, index=np.arange(len(clean_tokenized)),\n",
    "                      columns = unique_tokens)"
   ]
  },
  {
   "cell_type": "code",
   "execution_count": 5,
   "metadata": {},
   "outputs": [],
   "source": [
    "for index,item in enumerate(clean_tokenized):\n",
    "    for token in item:\n",
    "        if token in unique_tokens:\n",
    "            counts.iloc[index][token] += 1\n",
    "    "
   ]
  },
  {
   "cell_type": "code",
   "execution_count": 6,
   "metadata": {},
   "outputs": [],
   "source": [
    "word_counts = counts.sum(axis=0)\n",
    "\n",
    "counts = counts.loc[:,(word_counts >=5) & (word_counts <= 100)]"
   ]
  },
  {
   "cell_type": "code",
   "execution_count": 37,
   "metadata": {},
   "outputs": [],
   "source": [
    "from sklearn.model_selection import train_test_split\n",
    "\n",
    "X_train, X_test, y_train, y_test = train_test_split(counts, submissions[\"upvotes\"], test_size=0.20, random_state=1)"
   ]
  },
  {
   "cell_type": "code",
   "execution_count": 38,
   "metadata": {},
   "outputs": [],
   "source": [
    "from sklearn.linear_model import LinearRegression\n",
    "\n",
    "clf = LinearRegression()\n",
    "clf.fit(X_train,y_train)\n",
    "predictions = clf.predict(X_test)"
   ]
  },
  {
   "cell_type": "code",
   "execution_count": 39,
   "metadata": {},
   "outputs": [
    {
     "name": "stdout",
     "output_type": "stream",
     "text": [
      "2652.608251252287\n"
     ]
    }
   ],
   "source": [
    "from sklearn.metrics import mean_squared_error\n",
    "\n",
    "mse = mean_squared_error(y_test,predictions)\n",
    "print(mse)"
   ]
  },
  {
   "cell_type": "markdown",
   "metadata": {},
   "source": [
    "The mean number of upvotes is 10, and the standard deviation is 39.5.\n",
    "If we take the square root of our MSE to calculate error in terms of upvotes, we get 46.7. \n",
    "This means that our average error is 46.7 upvotes away from the true value. \n",
    "This is higher than the standard deviation, so our predictions are often far off-base."
   ]
  },
  {
   "cell_type": "code",
   "execution_count": 42,
   "metadata": {},
   "outputs": [
    {
     "name": "stdout",
     "output_type": "stream",
     "text": [
      "1952.3016541903314\n",
      "44.18485774776616\n"
     ]
    }
   ],
   "source": [
    "from sklearn.ensemble import RandomForestRegressor\n",
    "\n",
    "regr = RandomForestRegressor(n_estimators=50,max_depth=10)\n",
    "regr.fit(X_train, y_train)\n",
    "pred = regr.predict(X_test)\n",
    "mse2 = mean_squared_error(y_test,pred)\n",
    "print(mse2)\n",
    "print(mse2 ** 0.5)"
   ]
  },
  {
   "cell_type": "code",
   "execution_count": 41,
   "metadata": {},
   "outputs": [
    {
     "name": "stdout",
     "output_type": "stream",
     "text": [
      "849.7888925753692\n"
     ]
    }
   ],
   "source": [
    "regr2 = RandomForestRegressor(n_estimators=50,max_depth=10)\n",
    "regr2.fit(X_train, y_train)\n",
    "pred2 = regr.predict(X_train)\n",
    "mse3 = mean_squared_error(y_train,pred2)\n",
    "print(mse3)"
   ]
  },
  {
   "cell_type": "code",
   "execution_count": null,
   "metadata": {},
   "outputs": [],
   "source": []
  }
 ],
 "metadata": {
  "kernelspec": {
   "display_name": "Python 3",
   "language": "python",
   "name": "python3"
  },
  "language_info": {
   "codemirror_mode": {
    "name": "ipython",
    "version": 3
   },
   "file_extension": ".py",
   "mimetype": "text/x-python",
   "name": "python",
   "nbconvert_exporter": "python",
   "pygments_lexer": "ipython3",
   "version": "3.6.2"
  }
 },
 "nbformat": 4,
 "nbformat_minor": 2
}
